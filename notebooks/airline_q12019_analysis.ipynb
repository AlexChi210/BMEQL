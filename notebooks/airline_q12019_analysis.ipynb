{
 "cells": [
  {
   "cell_type": "markdown",
   "metadata": {},
   "source": [
    "# Capital One Airline Data Challenge — Q1 2019\n",
    "\n",
    "This notebook orchestrates the G-A-M-E workflow end-to-end using utilities in `src/`:\n",
    "- Ingestion with explicit schema and Q1-2019 scope\n",
    "- Data quality checks and issue logging\n",
    "- Feature engineering (route IDs, on-time flags)\n",
    "- Busiest routes, revenue/profit, integrated summary\n",
    "- Recommendations and breakeven sizing\n",
    "- Chart generation saved to `docs/`\n"
   ]
  },
  {
   "cell_type": "code",
   "execution_count": 26,
   "metadata": {},
   "outputs": [
    {
     "ename": "ModuleNotFoundError",
     "evalue": "No module named 'pandas'",
     "output_type": "error",
     "traceback": [
      "\u001b[0;31m---------------------------------------------------------------------------\u001b[0m",
      "\u001b[0;31mModuleNotFoundError\u001b[0m                       Traceback (most recent call last)",
      "Cell \u001b[0;32mIn[26], line 6\u001b[0m\n\u001b[1;32m      4\u001b[0m \u001b[38;5;28;01mif\u001b[39;00m proj_root \u001b[38;5;129;01mnot\u001b[39;00m \u001b[38;5;129;01min\u001b[39;00m sys\u001b[38;5;241m.\u001b[39mpath:\n\u001b[1;32m      5\u001b[0m     sys\u001b[38;5;241m.\u001b[39mpath\u001b[38;5;241m.\u001b[39minsert(\u001b[38;5;241m0\u001b[39m, proj_root)\n\u001b[0;32m----> 6\u001b[0m \u001b[38;5;28;01mimport\u001b[39;00m\u001b[38;5;250m \u001b[39m\u001b[38;5;21;01mpandas\u001b[39;00m\u001b[38;5;250m \u001b[39m\u001b[38;5;28;01mas\u001b[39;00m\u001b[38;5;250m \u001b[39m\u001b[38;5;21;01mpd\u001b[39;00m\n\u001b[1;32m      7\u001b[0m \u001b[38;5;28mprint\u001b[39m(sys\u001b[38;5;241m.\u001b[39mexecutable, pd\u001b[38;5;241m.\u001b[39m__version__)\n\u001b[1;32m      8\u001b[0m \u001b[38;5;28mprint\u001b[39m(\u001b[38;5;124m\"\u001b[39m\u001b[38;5;124mUsing project root:\u001b[39m\u001b[38;5;124m\"\u001b[39m, proj_root)\n",
      "\u001b[0;31mModuleNotFoundError\u001b[0m: No module named 'pandas'"
     ]
    }
   ],
   "source": [
    "# Ensure project root on sys.path and show pandas version\n",
    "import os, sys\n",
    "proj_root = os.path.abspath(os.path.join(os.getcwd(), os.pardir))\n",
    "if proj_root not in sys.path:\n",
    "    sys.path.insert(0, proj_root)\n",
    "import pandas as pd\n",
    "print(sys.executable, pd.__version__)\n",
    "print(\"Using project root:\", proj_root)\n",
    "print(\"pandas:\", pd.__version__)\n"
   ]
  },
  {
   "cell_type": "code",
   "execution_count": null,
   "metadata": {},
   "outputs": [
    {
     "ename": "ModuleNotFoundError",
     "evalue": "No module named 'pandas'",
     "output_type": "error",
     "traceback": [
      "\u001b[0;31m---------------------------------------------------------------------------\u001b[0m",
      "\u001b[0;31mModuleNotFoundError\u001b[0m                       Traceback (most recent call last)",
      "Cell \u001b[0;32mIn[18], line 3\u001b[0m\n\u001b[1;32m      1\u001b[0m \u001b[38;5;66;03m# Preamble: imports and paths\u001b[39;00m\n\u001b[1;32m      2\u001b[0m \u001b[38;5;28;01mimport\u001b[39;00m\u001b[38;5;250m \u001b[39m\u001b[38;5;21;01mos\u001b[39;00m\n\u001b[0;32m----> 3\u001b[0m \u001b[38;5;28;01mimport\u001b[39;00m\u001b[38;5;250m \u001b[39m\u001b[38;5;21;01mpandas\u001b[39;00m\u001b[38;5;250m \u001b[39m\u001b[38;5;28;01mas\u001b[39;00m\u001b[38;5;250m \u001b[39m\u001b[38;5;21;01mpd\u001b[39;00m\n\u001b[1;32m      4\u001b[0m \u001b[38;5;28;01mfrom\u001b[39;00m\u001b[38;5;250m \u001b[39m\u001b[38;5;21;01msrc\u001b[39;00m\u001b[38;5;21;01m.\u001b[39;00m\u001b[38;5;21;01mingest\u001b[39;00m\u001b[38;5;250m \u001b[39m\u001b[38;5;28;01mimport\u001b[39;00m ingest_airports, ingest_flights, ingest_tickets, write_processed\n\u001b[1;32m      5\u001b[0m \u001b[38;5;28;01mfrom\u001b[39;00m\u001b[38;5;250m \u001b[39m\u001b[38;5;21;01msrc\u001b[39;00m\u001b[38;5;21;01m.\u001b[39;00m\u001b[38;5;21;01mquality\u001b[39;00m\u001b[38;5;250m \u001b[39m\u001b[38;5;28;01mimport\u001b[39;00m (\n\u001b[1;32m      6\u001b[0m     check_nulls,\n\u001b[1;32m      7\u001b[0m     check_duplicates,\n\u001b[0;32m   (...)\u001b[0m\n\u001b[1;32m     10\u001b[0m     check_occupancy_bounds,\n\u001b[1;32m     11\u001b[0m )\n",
      "\u001b[0;31mModuleNotFoundError\u001b[0m: No module named 'pandas'"
     ]
    }
   ],
   "source": [
    "# Preamble: imports and paths\n",
    "import os\n",
    "import pandas as pd\n",
    "from src.ingest import ingest_airports, ingest_flights, ingest_tickets, write_processed\n",
    "from src.quality import (\n",
    "    check_nulls,\n",
    "    check_duplicates,\n",
    "    check_iata_format,\n",
    "    check_cancelled_binary,\n",
    "    check_occupancy_bounds,\n",
    ")\n",
    "from src.features import build_round_trip_id, build_leg_direction, on_time_flags, mask_cancelled\n",
    "\n",
    "PROJECT_ROOT = os.path.abspath(os.path.join(os.path.dirname(\".\"), os.pardir))\n",
    "DATA = os.path.join(PROJECT_ROOT, 'data')\n",
    "RAW = os.path.join(DATA, 'raw')\n",
    "PROC = os.path.join(DATA, 'processed')\n",
    "DOCS = os.path.join(PROJECT_ROOT, 'docs')\n",
    "META = os.path.join(DATA, 'Airline_Challenge_Metadata.xlsx')\n",
    "os.makedirs(PROC, exist_ok=True)\n",
    "os.makedirs(DOCS, exist_ok=True)\n"
   ]
  },
  {
   "cell_type": "code",
   "execution_count": null,
   "metadata": {},
   "outputs": [],
   "source": [
    "# Ingestion (Q1 2019)\n",
    "airports = ingest_airports(os.path.join(RAW,'Airport_Codes.csv'), META)\n",
    "flights = ingest_flights(os.path.join(RAW,'Flights.csv'), META)\n",
    "tickets = ingest_tickets(os.path.join(RAW,'Tickets.csv'), META)\n",
    "write_processed(airports, os.path.join(PROC,'airports.csv'))\n",
    "write_processed(flights, os.path.join(PROC,'flights.csv'))\n",
    "write_processed(tickets, os.path.join(PROC,'tickets.csv'))\n",
    "len(airports), len(flights), len(tickets)\n"
   ]
  },
  {
   "cell_type": "code",
   "execution_count": null,
   "metadata": {},
   "outputs": [],
   "source": [
    "# Data quality checks\n",
    "issues = []\n",
    "issues.append(check_nulls(flights, []))\n",
    "issues.append(check_duplicates(airports, ['IATA_CODE']))\n",
    "if 'IATA_CODE' in airports.columns:\n",
    "    issues.append(check_iata_format(airports['IATA_CODE']))\n",
    "if 'CANCELLED' in flights.columns:\n",
    "    issues.append(check_cancelled_binary(flights['CANCELLED']))\n",
    "if 'OCCUPANCY_RATE' in flights.columns:\n",
    "    issues.append(check_occupancy_bounds(flights['OCCUPANCY_RATE']))\n",
    "issue_log = pd.concat([i for i in issues if i is not None and not i.empty], ignore_index=True) if any([i is not None and not i.empty for i in issues]) else pd.DataFrame()\n",
    "issue_log.to_csv(os.path.join(DOCS,'issue_log.csv'), index=False) if not issue_log.empty else None\n",
    "issue_log.head() if not issue_log.empty else 'No issues detected at selected checks.'\n"
   ]
  },
  {
   "cell_type": "code",
   "execution_count": null,
   "metadata": {},
   "outputs": [],
   "source": [
    "# Feature engineering\n",
    "flights_eng = flights.copy()\n",
    "flights_eng['round_trip_id'] = build_round_trip_id(flights_eng)\n",
    "flights_eng['leg_dir'] = build_leg_direction(flights_eng)\n",
    "ot = on_time_flags(flights_eng)\n",
    "flights_eng = pd.concat([flights_eng, ot], axis=1)\n",
    "valid_leg = mask_cancelled(flights_eng)\n",
    "write_processed(flights_eng, os.path.join(PROC,'flights_engineered.csv'))\n",
    "flights_eng.head(3)\n"
   ]
  },
  {
   "cell_type": "code",
   "execution_count": null,
   "metadata": {},
   "outputs": [],
   "source": [
    "# Busiest routes (Q1 2019, excludes cancellations)\n",
    "legs = flights_eng[valid_leg].copy()\n",
    "by_route_dir = legs.groupby(['round_trip_id','leg_dir']).size().reset_index(name='legs')\n",
    "rt_completed = by_route_dir.groupby('round_trip_id')['legs'].min().rename('completed_round_trips')\n",
    "busiest = rt_completed.sort_values(ascending=False).head(10).reset_index()\n",
    "busiest\n"
   ]
  },
  {
   "cell_type": "code",
   "execution_count": null,
   "metadata": {},
   "outputs": [],
   "source": [
    "# Revenue and operating profit (Q1 2019)\n",
    "tix_q1 = tickets.copy()\n",
    "if 'ROUNDTRIP' in tix_q1.columns:\n",
    "    tix_q1 = tix_q1[tix_q1['ROUNDTRIP']==1]\n",
    "tix_q1['round_trip_id'] = (\n",
    "    tix_q1[['ORIGIN','DEST']].astype(str).stack().groupby(level=0).apply(lambda s: '-'.join(sorted(s.str.upper().str.strip())))\n",
    ")\n",
    "tix_q1['itinerary_revenue'] = tix_q1.get('PASSENGERS',0) * tix_q1.get('ITIN_FARE',0.0)\n",
    "route_revenue = tix_q1.groupby('round_trip_id', as_index=False)['itinerary_revenue'].sum().rename(columns={'itinerary_revenue':'total_revenue'})\n",
    "route_revenue.sort_values('total_revenue', ascending=False).head(10)\n"
   ]
  },
  {
   "cell_type": "code",
   "execution_count": null,
   "metadata": {},
   "outputs": [],
   "source": [
    "# Integrated route summary\n",
    "summary = rt_completed.rename_axis('round_trip_id').reset_index(name='completed_round_trips')\n",
    "punct = legs.groupby('round_trip_id')['on_time_arr'].mean().rename('on_time_arr_rate').reset_index()\n",
    "summary = summary.merge(punct, on='round_trip_id', how='left')\n",
    "summary = summary.merge(route_revenue, on='round_trip_id', how='left')\n",
    "summary['operating_cost'] = 0.0\n",
    "summary['operating_profit'] = summary['total_revenue'].fillna(0.0) - summary['operating_cost']\n",
    "write_processed(summary, os.path.join(PROC,'route_summary.csv'))\n",
    "summary.sort_values('operating_profit', ascending=False).head(10)\n"
   ]
  },
  {
   "cell_type": "code",
   "execution_count": null,
   "metadata": {},
   "outputs": [],
   "source": [
    "# Recommendations (top five)\n",
    "sc = summary.copy()\n",
    "for col in ['operating_profit','completed_round_trips','on_time_arr_rate']:\n",
    "    std = sc[col].std(ddof=0)\n",
    "    sc[col+'_z'] = (sc[col]-sc[col].mean())/std if std and std>0 else 0\n",
    "sc['score'] = 0.5*sc['operating_profit_z'] + 0.3*sc['completed_round_trips_z'] + 0.2*sc['on_time_arr_rate_z']\n",
    "top5 = sc.sort_values('score', ascending=False).head(5)\n",
    "top5[['round_trip_id','score','operating_profit','completed_round_trips','on_time_arr_rate']]\n"
   ]
  },
  {
   "cell_type": "code",
   "execution_count": null,
   "metadata": {},
   "outputs": [],
   "source": [
    "# Breakeven sizing (illustrative; aircraft purchase excluded)\n",
    "aircraft_cost = 0  # set if provided externally\n",
    "top5 = top5.copy()\n",
    "top5['profit_per_round_trip'] = (top5['operating_profit'] / top5['completed_round_trips'].replace(0, pd.NA)).fillna(0.0)\n",
    "top5['round_trips_to_breakeven'] = (aircraft_cost / top5['profit_per_round_trip']).replace([pd.NA, pd.NaT, float('inf')], 0)\n",
    "top5[['round_trip_id','profit_per_round_trip','round_trips_to_breakeven']]\n"
   ]
  },
  {
   "cell_type": "code",
   "execution_count": null,
   "metadata": {},
   "outputs": [],
   "source": [
    "# Charts (saved to docs/)\n",
    "import plotly.express as px\n",
    "\n",
    "# busiest\n",
    "busiest_plot = summary.sort_values('completed_round_trips', ascending=False).head(10)\n",
    "fig1 = px.bar(busiest_plot, x='round_trip_id', y='completed_round_trips', title='Top 10 busiest round-trip routes — Q1 2019 (excludes cancellations)')\n",
    "fig1.update_layout(xaxis_tickangle=-45)\n",
    "fig1.write_html(os.path.join(DOCS, 'busiest_routes.html'), include_plotlyjs='cdn')\n",
    "\n",
    "# most profitable\n",
    "prof_plot = summary.sort_values('operating_profit', ascending=False).head(10)\n",
    "fig2 = px.bar(prof_plot, x='round_trip_id', y='operating_profit', title='Top 10 most profitable routes — Q1 2019 (excludes aircraft purchase)')\n",
    "fig2.update_layout(xaxis_tickangle=-45)\n",
    "fig2.write_html(os.path.join(DOCS, 'most_profitable_routes.html'), include_plotlyjs='cdn')\n",
    "\n",
    "# profit vs on-time\n",
    "fig3 = px.scatter(summary, x='on_time_arr_rate', y='operating_profit', size='completed_round_trips', hover_name='round_trip_id', title='Profit vs On-time arrival rate — Q1 2019 (excludes cancellations)')\n",
    "fig3.write_html(os.path.join(DOCS, 'profit_vs_on_time.html'), include_plotlyjs='cdn')\n",
    "'Charts written to docs/'\n"
   ]
  }
 ],
 "metadata": {
  "kernelspec": {
   "display_name": "Python 3 (ipykernel)",
   "language": "python",
   "name": "python3"
  },
  "language_info": {
   "codemirror_mode": {
    "name": "ipython",
    "version": 3
   },
   "file_extension": ".py",
   "mimetype": "text/x-python",
   "name": "python",
   "nbconvert_exporter": "python",
   "pygments_lexer": "ipython3",
   "version": "3.9.6"
  }
 },
 "nbformat": 4,
 "nbformat_minor": 4
}
